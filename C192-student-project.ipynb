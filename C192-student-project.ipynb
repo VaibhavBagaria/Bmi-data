{
 "cells": [
  {
   "cell_type": "code",
   "execution_count": 102,
   "metadata": {},
   "outputs": [
    {
     "name": "stdout",
     "output_type": "stream",
     "text": [
      "Name : \n",
      "This is a CSV of more than 1300 rows which has bmi data.\n",
      "The task is to find out what is the percentage of people who are underweight and healthy. And plot a pie chart around it\n",
      "Another task is to find out what is the percentage of male and female who are underweight and healthy. And plot a pie chart around it\n"
     ]
    }
   ],
   "source": [
    "print(\"Name : \")\n",
    "print(\"This is a CSV of more than 1300 rows which has bmi data.\")\n",
    "print(\"The task is to find out what is the percentage of people who are underweight and healthy. And plot a pie chart around it\")\n",
    "print(\"Another task is to find out what is the percentage of male and female who are underweight and healthy. And plot a pie chart around it\")\n",
    "\n"
   ]
  },
  {
   "cell_type": "code",
   "execution_count": 21,
   "metadata": {},
   "outputs": [
    {
     "name": "stdout",
     "output_type": "stream",
     "text": [
      "    index  gender\n",
      "0      28    male\n",
      "1     128  female\n",
      "2     172    male\n",
      "3     198  female\n",
      "4     232  female\n",
      "5     250    male\n",
      "6     380  female\n",
      "7     410    male\n",
      "8     412  female\n",
      "9     428  female\n",
      "10    680  female\n",
      "11    821    male\n",
      "12    950    male\n",
      "13   1029  female\n",
      "14   1074  female\n",
      "15   1085  female\n",
      "16   1133  female\n",
      "17   1205    male\n",
      "18   1226    male\n",
      "19   1286  female\n",
      "20\n",
      "     index  gender\n",
      "0        3    male\n",
      "1       15    male\n",
      "2       17    male\n",
      "3       26  female\n",
      "4       35    male\n",
      "..     ...     ...\n",
      "216   1304    male\n",
      "217   1306  female\n",
      "218   1314  female\n",
      "219   1316  female\n",
      "220   1328  female\n",
      "\n",
      "[221 rows x 2 columns]\n",
      "221\n"
     ]
    }
   ],
   "source": [
    "import pandas as pd\n",
    "import matplotlib .pyplot as plt\n",
    "\n",
    "dataframe = pd.read_csv(\"bmi.csv\")\n",
    "df = dataframe.dropna()\n",
    "bmi = df['bmi']\n",
    "df"
   ]
  },
  {
   "cell_type": "code",
   "execution_count": 24,
   "metadata": {},
   "outputs": [
    {
     "name": "stdout",
     "output_type": "stream",
     "text": [
      "    index  gender\n",
      "0      28    male\n",
      "1     128  female\n",
      "2     172    male\n",
      "3     198  female\n",
      "4     232  female\n",
      "5     250    male\n",
      "6     380  female\n",
      "7     410    male\n",
      "8     412  female\n",
      "9     428  female\n",
      "10    680  female\n",
      "11    821    male\n",
      "12    950    male\n",
      "13   1029  female\n",
      "14   1074  female\n",
      "15   1085  female\n",
      "16   1133  female\n",
      "17   1205    male\n",
      "18   1226    male\n",
      "19   1286  female\n",
      "20\n",
      "     index  gender\n",
      "0        3    male\n",
      "1       15    male\n",
      "2       17    male\n",
      "3       26  female\n",
      "4       35    male\n",
      "..     ...     ...\n",
      "216   1304    male\n",
      "217   1306  female\n",
      "218   1314  female\n",
      "219   1316  female\n",
      "220   1328  female\n",
      "\n",
      "[221 rows x 2 columns]\n",
      "221\n"
     ]
    }
   ],
   "source": [
    "underweight=df.loc[bmi < 18.5]['gender'].reset_index(name='gender')\n",
    "print(underweight)\n",
    "underweight_count=underweight['index'].count()\n",
    "print(underweight_count)\n",
    "\n",
    "normalweight=df.loc[(bmi > 18.5) & (bmi < 24.9)]['gender'].reset_index(name='gender')\n",
    "print(normalweight)\n",
    "normalweight_count=normalweight['index'].count()\n",
    "print(normalweight_count)"
   ]
  },
  {
   "cell_type": "code",
   "execution_count": 27,
   "metadata": {},
   "outputs": [
    {
     "data": {
      "image/png": "[encoded data removed]",
      "text/plain": [
       "<Figure size 432x288 with 1 Axes>"
      ]
     },
     "metadata": {},
     "output_type": "display_data"
    }
   ],
   "source": [
    "value=[underweight_count,normalweight_count]\n",
    "label=[\"underweight\",\"Healthy_weight\"]\n",
    "\n",
    "plt.pie(value,labels=label,autopct='%0.1f%%',radius=2)\n",
    "plt.show()"
   ]
  },
  {
   "cell_type": "code",
   "execution_count": 29,
   "metadata": {},
   "outputs": [
    {
     "name": "stdout",
     "output_type": "stream",
     "text": [
      "   gender  number\n",
      "0  female      12\n",
      "1    male       8\n"
     ]
    }
   ],
   "source": [
    "group_underweight=underweight.groupby('gender')['gender'].count().reset_index(name='number')\n",
    "print(group_underweight)"
   ]
  },
  {
   "cell_type": "code",
   "execution_count": 30,
   "metadata": {},
   "outputs": [
    {
     "data": {
      "image/png": "[encoded data removed]",
      "text/plain": [
       "<Figure size 432x288 with 1 Axes>"
      ]
     },
     "metadata": {},
     "output_type": "display_data"
    }
   ],
   "source": [
    "value=group_underweight['number']\n",
    "label=[\"Female\",\"Male\"]\n",
    "\n",
    "plt.pie(value,labels=label,autopct='%0.1f%%',radius=2)\n",
    "plt.show()"
   ]
  },
  {
   "cell_type": "code",
   "execution_count": 32,
   "metadata": {},
   "outputs": [
    {
     "name": "stdout",
     "output_type": "stream",
     "text": [
      "   gender  number\n",
      "0  female     115\n",
      "1    male     106\n"
     ]
    }
   ],
   "source": [
    "group_healthyweight=normalweight.groupby('gender')['gender'].count().reset_index(name='number')\n",
    "print(group_healthyweight)"
   ]
  },
  {
   "cell_type": "code",
   "execution_count": 33,
   "metadata": {},
   "outputs": [
    {
     "data": {
      "image/png": "[encoded data removed]",
      "text/plain": [
       "<Figure size 432x288 with 1 Axes>"
      ]
     },
     "metadata": {},
     "output_type": "display_data"
    }
   ],
   "source": [
    "value=group_healthyweight['number']\n",
    "label=[\"Female\",\"Male\"]\n",
    "\n",
    "plt.pie(value,labels=label,autopct='%0.1f%%',radius=2)\n",
    "plt.show()"
   ]
  },
  {
   "cell_type": "code",
   "execution_count": null,
   "metadata": {},
   "outputs": [],
   "source": []
  },
  {
   "cell_type": "code",
   "execution_count": null,
   "metadata": {},
   "outputs": [],
   "source": []
  }
 ],
 "metadata": {
  "kernelspec": {
   "display_name": "Python 3 (ipykernel)",
   "language": "python",
   "name": "python3"
  },
  "language_info": {
   "codemirror_mode": {
    "name": "ipython",
    "version": 3
   },
   "file_extension": ".py",
   "mimetype": "text/x-python",
   "name": "python",
   "nbconvert_exporter": "python",
   "pygments_lexer": "ipython3",
   "version": "3.9.7"
  }
 },
 "nbformat": 4,
 "nbformat_minor": 4
}
